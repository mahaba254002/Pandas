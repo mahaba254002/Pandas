{
 "cells": [
  {
   "cell_type": "markdown",
   "metadata": {},
   "source": [
    "1. What is the difference between a Series and a Dataframe.\n",
    "- Series is 1-Dimensional array that can hold data of any type while Dataframe is 2-Dimensional data structure that hold data like a 2-d array or a table"
   ]
  },
  {
   "cell_type": "code",
   "execution_count": null,
   "metadata": {},
   "outputs": [],
   "source": [
    "import pandas as pd\n",
    "import numpy as np"
   ]
  },
  {
   "cell_type": "code",
   "execution_count": null,
   "metadata": {},
   "outputs": [],
   "source": [
    "serie=pd.Series([1,3,4,5,6],name=\"seiries\")\n",
    "print(type(serie))\n",
    "serie"
   ]
  },
  {
   "cell_type": "code",
   "execution_count": null,
   "metadata": {},
   "outputs": [],
   "source": [
    "import pandas as pd\n",
    "\n",
    "df = pd.DataFrame({\n",
    "    \"student_id\": [1, 2, 3],\n",
    "    \"student_name\": [\"Ali\", \"Salim\", \"Mahaba\"]\n",
    "})\n",
    "\n",
    "print(type(df))\n",
    "print(df)"
   ]
  },
  {
   "cell_type": "markdown",
   "metadata": {},
   "source": [
    "### Column Selection,Addition and Deletion"
   ]
  },
  {
   "cell_type": "code",
   "execution_count": null,
   "metadata": {},
   "outputs": [],
   "source": [
    "new_df=pd.DataFrame({\n",
    "    \"student_id\": range(1, 16),\n",
    "    \"name\": [\"Ali\", \"Salim\", \"Mahaba\", \"Sara\", \"John\", \"NaN\", \"Ella\", \"Mike\", \"Nina\", \"Tom\", \"Lucas\", \"NaN\", \"Zara\", \"Omar\", \"Leo\"],\n",
    "    \"age\": [20, 21, np.nan, 22, 23, np.nan, 24, 25, 26, 22, 21, 20, np.nan, 27, 24],\n",
    "    \"grade\": [\"A\", \"B\", np.nan, \"A\", \"C\", \"A\", \"B\", \"C\", \"A\", \"B\", \"C\", \"A\", \"B\", \"C\", \"A\"],\n",
    "    \"enrollment_date\": pd.date_range(start='2023-01-01', periods=15).tolist()\n",
    "})\n",
    "new_df"
   ]
  },
  {
   "cell_type": "code",
   "execution_count": null,
   "metadata": {},
   "outputs": [],
   "source": [
    "# Selecting a column and row\n",
    "col1=new_df[\"name\"] # Select 2nd column\n",
    "print(col1)\n",
    "row2=new_df.iloc[5:10] #selects 4th row\n",
    "print(row2)\n"
   ]
  },
  {
   "cell_type": "code",
   "execution_count": null,
   "metadata": {},
   "outputs": [],
   "source": [
    "# Addition\n",
    "#adding columns\n",
    "# Adding a new column 'gender'\n",
    "new_df['gender'] = ['M', 'M', 'F', 'F', 'M', 'F', 'F', 'M', 'F', 'M', 'M', 'F', 'F', 'M', 'M']\n",
    "\n",
    "print(new_df)\n",
    "# Adding a new row\n",
    "# Adding a new row using pd.concat\n",
    "new_row_df = pd.DataFrame([{'student_id': 16, 'name': 'Emma', 'age': 23, 'grade': 'A', 'enrollment_date': '2023-09-01', 'gender': 'F'}])\n",
    "new_df = pd.concat([new_df, new_row_df], ignore_index=True)\n",
    "\n",
    "print(df)\n",
    "\n",
    "print(new_df)"
   ]
  },
  {
   "cell_type": "code",
   "execution_count": null,
   "metadata": {},
   "outputs": [],
   "source": [
    "print(new_df.iloc[:,1])# Accessing name column using its index\n",
    "print(new_df.loc[0:15,[\"name\"]])"
   ]
  },
  {
   "cell_type": "code",
   "execution_count": null,
   "metadata": {},
   "outputs": [],
   "source": [
    "print(new_df.iloc[2:6,])#select all column from row 2 to 5"
   ]
  },
  {
   "cell_type": "markdown",
   "metadata": {},
   "source": [
    "### Handling Missing Data"
   ]
  },
  {
   "cell_type": "code",
   "execution_count": null,
   "metadata": {},
   "outputs": [],
   "source": [
    "new_df.isna() #Returns boolean value for evry attribute with true for missing"
   ]
  },
  {
   "cell_type": "code",
   "execution_count": null,
   "metadata": {},
   "outputs": [],
   "source": [
    "new_df.notnull() #Returns boolean value for evry attribute with false for missing"
   ]
  },
  {
   "cell_type": "code",
   "execution_count": null,
   "metadata": {},
   "outputs": [],
   "source": [
    "new_df.isnull().sum()"
   ]
  },
  {
   "cell_type": "code",
   "execution_count": null,
   "metadata": {},
   "outputs": [],
   "source": [
    "new_df.info # info Also shows where the data is missing. Suitable for small sets"
   ]
  },
  {
   "cell_type": "code",
   "execution_count": null,
   "metadata": {},
   "outputs": [],
   "source": [
    "has_missing = new_df.isnull().any() # Use any to check if column has any missing value\n",
    "print(has_missing)"
   ]
  },
  {
   "cell_type": "code",
   "execution_count": null,
   "metadata": {},
   "outputs": [],
   "source": [
    "non_missing=new_df.dropna(axis=0,how='any')\n",
    "non_missing"
   ]
  },
  {
   "cell_type": "code",
   "execution_count": null,
   "metadata": {},
   "outputs": [],
   "source": [
    "filled=new_df.fillna(67)"
   ]
  },
  {
   "cell_type": "code",
   "execution_count": null,
   "metadata": {},
   "outputs": [],
   "source": [
    "data = {\n",
    "    'A': [1, 2, np.nan, 4],\n",
    "    'B': [np.nan, 5, np.nan, 6],\n",
    "    'C': [7, 8, 9, np.nan]\n",
    "}\n",
    "\n",
    "df = pd.DataFrame(data)\n",
    "\n",
    "print(\"Original DataFrame:\\n\", df)\n",
    "\n",
    "# 1. Fill NaNs with a specific value\n",
    "df_filled_value = df.fillna(0)\n",
    "print(\"\\nFilled NaNs with 0:\\n\", df_filled_value)\n",
    "\n",
    "# 2. Forward fill NaNs\n",
    "df_filled_ffill = df.fillna(method='ffill')\n",
    "print(\"\\nForward filled NaNs:\\n\", df_filled_ffill)\n",
    "\n",
    "# 3. Backward fill NaNs\n",
    "df_filled_bfill = df.fillna(method='bfill')\n",
    "print(\"\\nBackward filled NaNs:\\n\", df_filled_bfill)\n",
    "\n",
    "# 4. Fill along columns\n",
    "df_filled_axis = df.fillna(value=10, axis=1)  # Fill NaNs in all columns with 10\n",
    "print(\"\\nFilled NaNs along columns with 10:\\n\", df_filled_axis)\n",
    "\n",
    "# 5. Limit the number of NaNs to fill\n",
    "df_filled_limit = df.fillna(method='ffill', limit=1)  # Fill only the first NaN in consecutive NaNs\n",
    "print(\"\\nForward fill with limit of 1:\\n\", df_filled_limit)\n",
    "\n",
    "# 6. Fill in place\n",
    "df.fillna(0, inplace=True)\n",
    "print(\"\\nOriginal DataFrame after filling NaNs in place with 0:\\n\", df)"
   ]
  },
  {
   "cell_type": "markdown",
   "metadata": {},
   "source": [
    "### Duplicates"
   ]
  },
  {
   "cell_type": "code",
   "execution_count": 17,
   "metadata": {},
   "outputs": [
    {
     "data": {
      "text/plain": [
       "0     False\n",
       "1     False\n",
       "2     False\n",
       "3     False\n",
       "4     False\n",
       "5     False\n",
       "6     False\n",
       "7     False\n",
       "8     False\n",
       "9     False\n",
       "10    False\n",
       "11    False\n",
       "12    False\n",
       "13    False\n",
       "14    False\n",
       "15    False\n",
       "dtype: bool"
      ]
     },
     "execution_count": 17,
     "metadata": {},
     "output_type": "execute_result"
    }
   ],
   "source": [
    "new_df.duplicated()# Returns boolean value for each row"
   ]
  },
  {
   "cell_type": "code",
   "execution_count": 18,
   "metadata": {},
   "outputs": [
    {
     "data": {
      "text/plain": [
       "0"
      ]
     },
     "execution_count": 18,
     "metadata": {},
     "output_type": "execute_result"
    }
   ],
   "source": [
    "new_df.duplicated().sum()# Returns Number of rows with duplicates"
   ]
  },
  {
   "cell_type": "code",
   "execution_count": 20,
   "metadata": {},
   "outputs": [
    {
     "data": {
      "text/plain": [
       "True"
      ]
     },
     "execution_count": 20,
     "metadata": {},
     "output_type": "execute_result"
    }
   ],
   "source": [
    "new_df.index.is_unique # returns boolean value checking whether if rows are unique"
   ]
  },
  {
   "cell_type": "code",
   "execution_count": 21,
   "metadata": {},
   "outputs": [
    {
     "data": {
      "text/html": [
       "<div>\n",
       "<style scoped>\n",
       "    .dataframe tbody tr th:only-of-type {\n",
       "        vertical-align: middle;\n",
       "    }\n",
       "\n",
       "    .dataframe tbody tr th {\n",
       "        vertical-align: top;\n",
       "    }\n",
       "\n",
       "    .dataframe thead th {\n",
       "        text-align: right;\n",
       "    }\n",
       "</style>\n",
       "<table border=\"1\" class=\"dataframe\">\n",
       "  <thead>\n",
       "    <tr style=\"text-align: right;\">\n",
       "      <th></th>\n",
       "      <th>student_id</th>\n",
       "      <th>name</th>\n",
       "      <th>age</th>\n",
       "      <th>grade</th>\n",
       "      <th>enrollment_date</th>\n",
       "      <th>gender</th>\n",
       "    </tr>\n",
       "  </thead>\n",
       "  <tbody>\n",
       "    <tr>\n",
       "      <th>0</th>\n",
       "      <td>1</td>\n",
       "      <td>Ali</td>\n",
       "      <td>20.0</td>\n",
       "      <td>A</td>\n",
       "      <td>2023-01-01 00:00:00</td>\n",
       "      <td>M</td>\n",
       "    </tr>\n",
       "    <tr>\n",
       "      <th>1</th>\n",
       "      <td>2</td>\n",
       "      <td>Salim</td>\n",
       "      <td>21.0</td>\n",
       "      <td>B</td>\n",
       "      <td>2023-01-02 00:00:00</td>\n",
       "      <td>M</td>\n",
       "    </tr>\n",
       "    <tr>\n",
       "      <th>2</th>\n",
       "      <td>3</td>\n",
       "      <td>Mahaba</td>\n",
       "      <td>NaN</td>\n",
       "      <td>NaN</td>\n",
       "      <td>2023-01-03 00:00:00</td>\n",
       "      <td>F</td>\n",
       "    </tr>\n",
       "    <tr>\n",
       "      <th>3</th>\n",
       "      <td>4</td>\n",
       "      <td>Sara</td>\n",
       "      <td>22.0</td>\n",
       "      <td>A</td>\n",
       "      <td>2023-01-04 00:00:00</td>\n",
       "      <td>F</td>\n",
       "    </tr>\n",
       "    <tr>\n",
       "      <th>4</th>\n",
       "      <td>5</td>\n",
       "      <td>John</td>\n",
       "      <td>23.0</td>\n",
       "      <td>C</td>\n",
       "      <td>2023-01-05 00:00:00</td>\n",
       "      <td>M</td>\n",
       "    </tr>\n",
       "    <tr>\n",
       "      <th>5</th>\n",
       "      <td>6</td>\n",
       "      <td>NaN</td>\n",
       "      <td>NaN</td>\n",
       "      <td>A</td>\n",
       "      <td>2023-01-06 00:00:00</td>\n",
       "      <td>F</td>\n",
       "    </tr>\n",
       "    <tr>\n",
       "      <th>6</th>\n",
       "      <td>7</td>\n",
       "      <td>Ella</td>\n",
       "      <td>24.0</td>\n",
       "      <td>B</td>\n",
       "      <td>2023-01-07 00:00:00</td>\n",
       "      <td>F</td>\n",
       "    </tr>\n",
       "    <tr>\n",
       "      <th>7</th>\n",
       "      <td>8</td>\n",
       "      <td>Mike</td>\n",
       "      <td>25.0</td>\n",
       "      <td>C</td>\n",
       "      <td>2023-01-08 00:00:00</td>\n",
       "      <td>M</td>\n",
       "    </tr>\n",
       "    <tr>\n",
       "      <th>8</th>\n",
       "      <td>9</td>\n",
       "      <td>Nina</td>\n",
       "      <td>26.0</td>\n",
       "      <td>A</td>\n",
       "      <td>2023-01-09 00:00:00</td>\n",
       "      <td>F</td>\n",
       "    </tr>\n",
       "    <tr>\n",
       "      <th>9</th>\n",
       "      <td>10</td>\n",
       "      <td>Tom</td>\n",
       "      <td>22.0</td>\n",
       "      <td>B</td>\n",
       "      <td>2023-01-10 00:00:00</td>\n",
       "      <td>M</td>\n",
       "    </tr>\n",
       "    <tr>\n",
       "      <th>10</th>\n",
       "      <td>11</td>\n",
       "      <td>Lucas</td>\n",
       "      <td>21.0</td>\n",
       "      <td>C</td>\n",
       "      <td>2023-01-11 00:00:00</td>\n",
       "      <td>M</td>\n",
       "    </tr>\n",
       "    <tr>\n",
       "      <th>11</th>\n",
       "      <td>12</td>\n",
       "      <td>NaN</td>\n",
       "      <td>20.0</td>\n",
       "      <td>A</td>\n",
       "      <td>2023-01-12 00:00:00</td>\n",
       "      <td>F</td>\n",
       "    </tr>\n",
       "    <tr>\n",
       "      <th>12</th>\n",
       "      <td>13</td>\n",
       "      <td>Zara</td>\n",
       "      <td>NaN</td>\n",
       "      <td>B</td>\n",
       "      <td>2023-01-13 00:00:00</td>\n",
       "      <td>F</td>\n",
       "    </tr>\n",
       "    <tr>\n",
       "      <th>13</th>\n",
       "      <td>14</td>\n",
       "      <td>Omar</td>\n",
       "      <td>27.0</td>\n",
       "      <td>C</td>\n",
       "      <td>2023-01-14 00:00:00</td>\n",
       "      <td>M</td>\n",
       "    </tr>\n",
       "    <tr>\n",
       "      <th>14</th>\n",
       "      <td>15</td>\n",
       "      <td>Leo</td>\n",
       "      <td>24.0</td>\n",
       "      <td>A</td>\n",
       "      <td>2023-01-15 00:00:00</td>\n",
       "      <td>M</td>\n",
       "    </tr>\n",
       "    <tr>\n",
       "      <th>15</th>\n",
       "      <td>16</td>\n",
       "      <td>Emma</td>\n",
       "      <td>23.0</td>\n",
       "      <td>A</td>\n",
       "      <td>2023-09-01</td>\n",
       "      <td>F</td>\n",
       "    </tr>\n",
       "  </tbody>\n",
       "</table>\n",
       "</div>"
      ],
      "text/plain": [
       "    student_id    name   age grade      enrollment_date gender\n",
       "0            1     Ali  20.0     A  2023-01-01 00:00:00      M\n",
       "1            2   Salim  21.0     B  2023-01-02 00:00:00      M\n",
       "2            3  Mahaba   NaN   NaN  2023-01-03 00:00:00      F\n",
       "3            4    Sara  22.0     A  2023-01-04 00:00:00      F\n",
       "4            5    John  23.0     C  2023-01-05 00:00:00      M\n",
       "5            6     NaN   NaN     A  2023-01-06 00:00:00      F\n",
       "6            7    Ella  24.0     B  2023-01-07 00:00:00      F\n",
       "7            8    Mike  25.0     C  2023-01-08 00:00:00      M\n",
       "8            9    Nina  26.0     A  2023-01-09 00:00:00      F\n",
       "9           10     Tom  22.0     B  2023-01-10 00:00:00      M\n",
       "10          11   Lucas  21.0     C  2023-01-11 00:00:00      M\n",
       "11          12     NaN  20.0     A  2023-01-12 00:00:00      F\n",
       "12          13    Zara   NaN     B  2023-01-13 00:00:00      F\n",
       "13          14    Omar  27.0     C  2023-01-14 00:00:00      M\n",
       "14          15     Leo  24.0     A  2023-01-15 00:00:00      M\n",
       "15          16    Emma  23.0     A           2023-09-01      F"
      ]
     },
     "execution_count": 21,
     "metadata": {},
     "output_type": "execute_result"
    }
   ],
   "source": [
    "# Removing duplicates\n",
    "new_df.drop_duplicates(keep='first')"
   ]
  }
 ],
 "metadata": {
  "kernelspec": {
   "display_name": "Python 3",
   "language": "python",
   "name": "python3"
  },
  "language_info": {
   "codemirror_mode": {
    "name": "ipython",
    "version": 3
   },
   "file_extension": ".py",
   "mimetype": "text/x-python",
   "name": "python",
   "nbconvert_exporter": "python",
   "pygments_lexer": "ipython3",
   "version": "3.12.1"
  }
 },
 "nbformat": 4,
 "nbformat_minor": 2
}
