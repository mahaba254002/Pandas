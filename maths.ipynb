{
 "cells": [
  {
   "cell_type": "markdown",
   "metadata": {},
   "source": [
    "## Statistical Functions"
   ]
  },
  {
   "cell_type": "code",
   "execution_count": null,
   "metadata": {},
   "outputs": [],
   "source": [
    "import pandas as pd\n",
    "import numpy as np\n",
    "\n",
    "# Define data\n",
    "data = {\n",
    "    'EmployeeID': range(1, 21),  # 20 employees\n",
    "    'YearsExperience': [5, 7, 3, 8, np.nan, 4, 10, 6, np.nan, 12, 3, 9, 2, 5, 8, np.nan, 11, 4, 7, 6],\n",
    "    'EducationLevel': ['Bachelor', 'Master', 'PhD', 'Bachelor', 'Master', 'Bachelor', 'PhD', 'Master', \n",
    "                       'Bachelor', 'PhD', 'Bachelor', 'Master', 'PhD', 'Master', 'Bachelor', 'PhD', \n",
    "                       'Bachelor', 'Master', 'PhD', 'Bachelor'],\n",
    "    'TrainingHours': [40, 30, 25, 50, 35, 45, 40, np.nan, 20, 30, np.nan, 25, 30, 40, 35, 45, 25, 30, 50, np.nan],\n",
    "    'SalesAchieved': [100000, 120000, 80000, 150000, 110000, 90000, 200000, 130000, 70000, 180000, 75000, \n",
    "                      125000, 85000, 115000, 140000, 160000, 175000, 95000, 105000, 145000]\n",
    "}\n",
    "\n",
    "# Create DataFrame\n",
    "df = pd.DataFrame(data)\n",
    "\n",
    "# Display the DataFrame\n",
    "print(df)\n"
   ]
  },
  {
   "cell_type": "code",
   "execution_count": 7,
   "metadata": {},
   "outputs": [
    {
     "name": "stdout",
     "output_type": "stream",
     "text": [
      "122500.0\n",
      "117500.0\n",
      "37116.459676905724\n",
      "0      70000\n",
      "1      75000\n",
      "2      80000\n",
      "3      85000\n",
      "4      90000\n",
      "5      95000\n",
      "6     100000\n",
      "7     105000\n",
      "8     110000\n",
      "9     115000\n",
      "10    120000\n",
      "11    125000\n",
      "12    130000\n",
      "13    140000\n",
      "14    145000\n",
      "15    150000\n",
      "16    160000\n",
      "17    175000\n",
      "18    180000\n",
      "19    200000\n",
      "Name: SalesAchieved, dtype: int64\n"
     ]
    }
   ],
   "source": [
    "print(df[\"SalesAchieved\"].mean())\n",
    "print(df[\"SalesAchieved\"].median())\n",
    "print(df[\"SalesAchieved\"].std())\n",
    "print(df[\"SalesAchieved\"].mode())"
   ]
  },
  {
   "cell_type": "code",
   "execution_count": 8,
   "metadata": {},
   "outputs": [
    {
     "data": {
      "text/html": [
       "<div>\n",
       "<style scoped>\n",
       "    .dataframe tbody tr th:only-of-type {\n",
       "        vertical-align: middle;\n",
       "    }\n",
       "\n",
       "    .dataframe tbody tr th {\n",
       "        vertical-align: top;\n",
       "    }\n",
       "\n",
       "    .dataframe thead th {\n",
       "        text-align: right;\n",
       "    }\n",
       "</style>\n",
       "<table border=\"1\" class=\"dataframe\">\n",
       "  <thead>\n",
       "    <tr style=\"text-align: right;\">\n",
       "      <th></th>\n",
       "      <th>EmployeeID</th>\n",
       "      <th>YearsExperience</th>\n",
       "      <th>TrainingHours</th>\n",
       "      <th>SalesAchieved</th>\n",
       "    </tr>\n",
       "  </thead>\n",
       "  <tbody>\n",
       "    <tr>\n",
       "      <th>count</th>\n",
       "      <td>20.00000</td>\n",
       "      <td>17.000000</td>\n",
       "      <td>17.000000</td>\n",
       "      <td>20.000000</td>\n",
       "    </tr>\n",
       "    <tr>\n",
       "      <th>mean</th>\n",
       "      <td>10.50000</td>\n",
       "      <td>6.470588</td>\n",
       "      <td>35.000000</td>\n",
       "      <td>122500.000000</td>\n",
       "    </tr>\n",
       "    <tr>\n",
       "      <th>std</th>\n",
       "      <td>5.91608</td>\n",
       "      <td>2.917997</td>\n",
       "      <td>9.185587</td>\n",
       "      <td>37116.459677</td>\n",
       "    </tr>\n",
       "    <tr>\n",
       "      <th>min</th>\n",
       "      <td>1.00000</td>\n",
       "      <td>2.000000</td>\n",
       "      <td>20.000000</td>\n",
       "      <td>70000.000000</td>\n",
       "    </tr>\n",
       "    <tr>\n",
       "      <th>25%</th>\n",
       "      <td>5.75000</td>\n",
       "      <td>4.000000</td>\n",
       "      <td>30.000000</td>\n",
       "      <td>93750.000000</td>\n",
       "    </tr>\n",
       "    <tr>\n",
       "      <th>50%</th>\n",
       "      <td>10.50000</td>\n",
       "      <td>6.000000</td>\n",
       "      <td>35.000000</td>\n",
       "      <td>117500.000000</td>\n",
       "    </tr>\n",
       "    <tr>\n",
       "      <th>75%</th>\n",
       "      <td>15.25000</td>\n",
       "      <td>8.000000</td>\n",
       "      <td>40.000000</td>\n",
       "      <td>146250.000000</td>\n",
       "    </tr>\n",
       "    <tr>\n",
       "      <th>max</th>\n",
       "      <td>20.00000</td>\n",
       "      <td>12.000000</td>\n",
       "      <td>50.000000</td>\n",
       "      <td>200000.000000</td>\n",
       "    </tr>\n",
       "  </tbody>\n",
       "</table>\n",
       "</div>"
      ],
      "text/plain": [
       "       EmployeeID  YearsExperience  TrainingHours  SalesAchieved\n",
       "count    20.00000        17.000000      17.000000      20.000000\n",
       "mean     10.50000         6.470588      35.000000  122500.000000\n",
       "std       5.91608         2.917997       9.185587   37116.459677\n",
       "min       1.00000         2.000000      20.000000   70000.000000\n",
       "25%       5.75000         4.000000      30.000000   93750.000000\n",
       "50%      10.50000         6.000000      35.000000  117500.000000\n",
       "75%      15.25000         8.000000      40.000000  146250.000000\n",
       "max      20.00000        12.000000      50.000000  200000.000000"
      ]
     },
     "execution_count": 8,
     "metadata": {},
     "output_type": "execute_result"
    }
   ],
   "source": [
    "df.describe()"
   ]
  },
  {
   "cell_type": "code",
   "execution_count": 15,
   "metadata": {},
   "outputs": [
    {
     "data": {
      "text/html": [
       "<div>\n",
       "<style scoped>\n",
       "    .dataframe tbody tr th:only-of-type {\n",
       "        vertical-align: middle;\n",
       "    }\n",
       "\n",
       "    .dataframe tbody tr th {\n",
       "        vertical-align: top;\n",
       "    }\n",
       "\n",
       "    .dataframe thead th {\n",
       "        text-align: right;\n",
       "    }\n",
       "</style>\n",
       "<table border=\"1\" class=\"dataframe\">\n",
       "  <thead>\n",
       "    <tr style=\"text-align: right;\">\n",
       "      <th></th>\n",
       "      <th>EmployeeID</th>\n",
       "      <th>YearsExperience</th>\n",
       "      <th>TrainingHours</th>\n",
       "      <th>SalesAchieved</th>\n",
       "    </tr>\n",
       "  </thead>\n",
       "  <tbody>\n",
       "    <tr>\n",
       "      <th>0.25</th>\n",
       "      <td>5</td>\n",
       "      <td>NaN</td>\n",
       "      <td>35.0</td>\n",
       "      <td>110000</td>\n",
       "    </tr>\n",
       "    <tr>\n",
       "      <th>0.75</th>\n",
       "      <td>15</td>\n",
       "      <td>8.0</td>\n",
       "      <td>35.0</td>\n",
       "      <td>140000</td>\n",
       "    </tr>\n",
       "  </tbody>\n",
       "</table>\n",
       "</div>"
      ],
      "text/plain": [
       "      EmployeeID  YearsExperience  TrainingHours  SalesAchieved\n",
       "0.25           5              NaN           35.0         110000\n",
       "0.75          15              8.0           35.0         140000"
      ]
     },
     "execution_count": 15,
     "metadata": {},
     "output_type": "execute_result"
    }
   ],
   "source": [
    "df.quantile([0.25,0.75],numeric_only=True,method='table',interpolation='lower')"
   ]
  }
 ],
 "metadata": {
  "kernelspec": {
   "display_name": "Python 3",
   "language": "python",
   "name": "python3"
  },
  "language_info": {
   "codemirror_mode": {
    "name": "ipython",
    "version": 3
   },
   "file_extension": ".py",
   "mimetype": "text/x-python",
   "name": "python",
   "nbconvert_exporter": "python",
   "pygments_lexer": "ipython3",
   "version": "3.12.1"
  }
 },
 "nbformat": 4,
 "nbformat_minor": 2
}
